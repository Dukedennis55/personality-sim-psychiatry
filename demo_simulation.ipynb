{
  "nbformat": 4,
  "nbformat_minor": 0,
  "metadata": {
    "colab": {
      "provenance": [],
      "authorship_tag": "ABX9TyN3e9461rz3/EQiko5p2nE0",
      "include_colab_link": true
    },
    "kernelspec": {
      "name": "python3",
      "display_name": "Python 3"
    },
    "language_info": {
      "name": "python"
    }
  },
  "cells": [
    {
      "cell_type": "markdown",
      "metadata": {
        "id": "view-in-github",
        "colab_type": "text"
      },
      "source": [
        "<a href=\"https://colab.research.google.com/github/Dukedennis55/personality-sim-psychiatry/blob/main/demo_simulation.ipynb\" target=\"_parent\"><img src=\"https://colab.research.google.com/assets/colab-badge.svg\" alt=\"Open In Colab\"/></a>"
      ]
    },
    {
      "cell_type": "code",
      "source": [
        "!pip install mesa==1.1.0\n",
        "\n"
      ],
      "metadata": {
        "colab": {
          "base_uri": "https://localhost:8080/"
        },
        "id": "4XMEQJ6ThaIQ",
        "outputId": "a25f4abd-ae7e-47a7-d9af-2cd5a4526e6c"
      },
      "execution_count": 1,
      "outputs": [
        {
          "output_type": "stream",
          "name": "stdout",
          "text": [
            "Requirement already satisfied: mesa==1.1.0 in /usr/local/lib/python3.12/dist-packages (1.1.0)\n",
            "Requirement already satisfied: click in /usr/local/lib/python3.12/dist-packages (from mesa==1.1.0) (8.2.1)\n",
            "Requirement already satisfied: cookiecutter in /usr/local/lib/python3.12/dist-packages (from mesa==1.1.0) (2.6.0)\n",
            "Requirement already satisfied: networkx in /usr/local/lib/python3.12/dist-packages (from mesa==1.1.0) (3.5)\n",
            "Requirement already satisfied: numpy in /usr/local/lib/python3.12/dist-packages (from mesa==1.1.0) (2.0.2)\n",
            "Requirement already satisfied: pandas in /usr/local/lib/python3.12/dist-packages (from mesa==1.1.0) (2.2.2)\n",
            "Requirement already satisfied: tornado in /usr/local/lib/python3.12/dist-packages (from mesa==1.1.0) (6.4.2)\n",
            "Requirement already satisfied: tqdm in /usr/local/lib/python3.12/dist-packages (from mesa==1.1.0) (4.67.1)\n",
            "Requirement already satisfied: binaryornot>=0.4.4 in /usr/local/lib/python3.12/dist-packages (from cookiecutter->mesa==1.1.0) (0.4.4)\n",
            "Requirement already satisfied: Jinja2<4.0.0,>=2.7 in /usr/local/lib/python3.12/dist-packages (from cookiecutter->mesa==1.1.0) (3.1.6)\n",
            "Requirement already satisfied: pyyaml>=5.3.1 in /usr/local/lib/python3.12/dist-packages (from cookiecutter->mesa==1.1.0) (6.0.2)\n",
            "Requirement already satisfied: python-slugify>=4.0.0 in /usr/local/lib/python3.12/dist-packages (from cookiecutter->mesa==1.1.0) (8.0.4)\n",
            "Requirement already satisfied: requests>=2.23.0 in /usr/local/lib/python3.12/dist-packages (from cookiecutter->mesa==1.1.0) (2.32.4)\n",
            "Requirement already satisfied: arrow in /usr/local/lib/python3.12/dist-packages (from cookiecutter->mesa==1.1.0) (1.3.0)\n",
            "Requirement already satisfied: rich in /usr/local/lib/python3.12/dist-packages (from cookiecutter->mesa==1.1.0) (13.9.4)\n",
            "Requirement already satisfied: python-dateutil>=2.8.2 in /usr/local/lib/python3.12/dist-packages (from pandas->mesa==1.1.0) (2.9.0.post0)\n",
            "Requirement already satisfied: pytz>=2020.1 in /usr/local/lib/python3.12/dist-packages (from pandas->mesa==1.1.0) (2025.2)\n",
            "Requirement already satisfied: tzdata>=2022.7 in /usr/local/lib/python3.12/dist-packages (from pandas->mesa==1.1.0) (2025.2)\n",
            "Requirement already satisfied: chardet>=3.0.2 in /usr/local/lib/python3.12/dist-packages (from binaryornot>=0.4.4->cookiecutter->mesa==1.1.0) (5.2.0)\n",
            "Requirement already satisfied: MarkupSafe>=2.0 in /usr/local/lib/python3.12/dist-packages (from Jinja2<4.0.0,>=2.7->cookiecutter->mesa==1.1.0) (3.0.2)\n",
            "Requirement already satisfied: six>=1.5 in /usr/local/lib/python3.12/dist-packages (from python-dateutil>=2.8.2->pandas->mesa==1.1.0) (1.17.0)\n",
            "Requirement already satisfied: text-unidecode>=1.3 in /usr/local/lib/python3.12/dist-packages (from python-slugify>=4.0.0->cookiecutter->mesa==1.1.0) (1.3)\n",
            "Requirement already satisfied: charset_normalizer<4,>=2 in /usr/local/lib/python3.12/dist-packages (from requests>=2.23.0->cookiecutter->mesa==1.1.0) (3.4.3)\n",
            "Requirement already satisfied: idna<4,>=2.5 in /usr/local/lib/python3.12/dist-packages (from requests>=2.23.0->cookiecutter->mesa==1.1.0) (3.10)\n",
            "Requirement already satisfied: urllib3<3,>=1.21.1 in /usr/local/lib/python3.12/dist-packages (from requests>=2.23.0->cookiecutter->mesa==1.1.0) (2.5.0)\n",
            "Requirement already satisfied: certifi>=2017.4.17 in /usr/local/lib/python3.12/dist-packages (from requests>=2.23.0->cookiecutter->mesa==1.1.0) (2025.8.3)\n",
            "Requirement already satisfied: types-python-dateutil>=2.8.10 in /usr/local/lib/python3.12/dist-packages (from arrow->cookiecutter->mesa==1.1.0) (2.9.0.20250822)\n",
            "Requirement already satisfied: markdown-it-py>=2.2.0 in /usr/local/lib/python3.12/dist-packages (from rich->cookiecutter->mesa==1.1.0) (4.0.0)\n",
            "Requirement already satisfied: pygments<3.0.0,>=2.13.0 in /usr/local/lib/python3.12/dist-packages (from rich->cookiecutter->mesa==1.1.0) (2.19.2)\n",
            "Requirement already satisfied: mdurl~=0.1 in /usr/local/lib/python3.12/dist-packages (from markdown-it-py>=2.2.0->rich->cookiecutter->mesa==1.1.0) (0.1.2)\n"
          ]
        }
      ]
    },
    {
      "cell_type": "code",
      "source": [
        "!pip install mesa pandas matplotlib"
      ],
      "metadata": {
        "colab": {
          "base_uri": "https://localhost:8080/"
        },
        "id": "J9pvHHD0gFuu",
        "outputId": "bc3b81a1-edcc-45f3-ed71-938c99311b52"
      },
      "execution_count": 2,
      "outputs": [
        {
          "output_type": "stream",
          "name": "stdout",
          "text": [
            "Requirement already satisfied: mesa in /usr/local/lib/python3.12/dist-packages (1.1.0)\n",
            "Requirement already satisfied: pandas in /usr/local/lib/python3.12/dist-packages (2.2.2)\n",
            "Requirement already satisfied: matplotlib in /usr/local/lib/python3.12/dist-packages (3.10.0)\n",
            "Requirement already satisfied: click in /usr/local/lib/python3.12/dist-packages (from mesa) (8.2.1)\n",
            "Requirement already satisfied: cookiecutter in /usr/local/lib/python3.12/dist-packages (from mesa) (2.6.0)\n",
            "Requirement already satisfied: networkx in /usr/local/lib/python3.12/dist-packages (from mesa) (3.5)\n",
            "Requirement already satisfied: numpy in /usr/local/lib/python3.12/dist-packages (from mesa) (2.0.2)\n",
            "Requirement already satisfied: tornado in /usr/local/lib/python3.12/dist-packages (from mesa) (6.4.2)\n",
            "Requirement already satisfied: tqdm in /usr/local/lib/python3.12/dist-packages (from mesa) (4.67.1)\n",
            "Requirement already satisfied: python-dateutil>=2.8.2 in /usr/local/lib/python3.12/dist-packages (from pandas) (2.9.0.post0)\n",
            "Requirement already satisfied: pytz>=2020.1 in /usr/local/lib/python3.12/dist-packages (from pandas) (2025.2)\n",
            "Requirement already satisfied: tzdata>=2022.7 in /usr/local/lib/python3.12/dist-packages (from pandas) (2025.2)\n",
            "Requirement already satisfied: contourpy>=1.0.1 in /usr/local/lib/python3.12/dist-packages (from matplotlib) (1.3.3)\n",
            "Requirement already satisfied: cycler>=0.10 in /usr/local/lib/python3.12/dist-packages (from matplotlib) (0.12.1)\n",
            "Requirement already satisfied: fonttools>=4.22.0 in /usr/local/lib/python3.12/dist-packages (from matplotlib) (4.59.2)\n",
            "Requirement already satisfied: kiwisolver>=1.3.1 in /usr/local/lib/python3.12/dist-packages (from matplotlib) (1.4.9)\n",
            "Requirement already satisfied: packaging>=20.0 in /usr/local/lib/python3.12/dist-packages (from matplotlib) (25.0)\n",
            "Requirement already satisfied: pillow>=8 in /usr/local/lib/python3.12/dist-packages (from matplotlib) (11.3.0)\n",
            "Requirement already satisfied: pyparsing>=2.3.1 in /usr/local/lib/python3.12/dist-packages (from matplotlib) (3.2.3)\n",
            "Requirement already satisfied: six>=1.5 in /usr/local/lib/python3.12/dist-packages (from python-dateutil>=2.8.2->pandas) (1.17.0)\n",
            "Requirement already satisfied: binaryornot>=0.4.4 in /usr/local/lib/python3.12/dist-packages (from cookiecutter->mesa) (0.4.4)\n",
            "Requirement already satisfied: Jinja2<4.0.0,>=2.7 in /usr/local/lib/python3.12/dist-packages (from cookiecutter->mesa) (3.1.6)\n",
            "Requirement already satisfied: pyyaml>=5.3.1 in /usr/local/lib/python3.12/dist-packages (from cookiecutter->mesa) (6.0.2)\n",
            "Requirement already satisfied: python-slugify>=4.0.0 in /usr/local/lib/python3.12/dist-packages (from cookiecutter->mesa) (8.0.4)\n",
            "Requirement already satisfied: requests>=2.23.0 in /usr/local/lib/python3.12/dist-packages (from cookiecutter->mesa) (2.32.4)\n",
            "Requirement already satisfied: arrow in /usr/local/lib/python3.12/dist-packages (from cookiecutter->mesa) (1.3.0)\n",
            "Requirement already satisfied: rich in /usr/local/lib/python3.12/dist-packages (from cookiecutter->mesa) (13.9.4)\n",
            "Requirement already satisfied: chardet>=3.0.2 in /usr/local/lib/python3.12/dist-packages (from binaryornot>=0.4.4->cookiecutter->mesa) (5.2.0)\n",
            "Requirement already satisfied: MarkupSafe>=2.0 in /usr/local/lib/python3.12/dist-packages (from Jinja2<4.0.0,>=2.7->cookiecutter->mesa) (3.0.2)\n",
            "Requirement already satisfied: text-unidecode>=1.3 in /usr/local/lib/python3.12/dist-packages (from python-slugify>=4.0.0->cookiecutter->mesa) (1.3)\n",
            "Requirement already satisfied: charset_normalizer<4,>=2 in /usr/local/lib/python3.12/dist-packages (from requests>=2.23.0->cookiecutter->mesa) (3.4.3)\n",
            "Requirement already satisfied: idna<4,>=2.5 in /usr/local/lib/python3.12/dist-packages (from requests>=2.23.0->cookiecutter->mesa) (3.10)\n",
            "Requirement already satisfied: urllib3<3,>=1.21.1 in /usr/local/lib/python3.12/dist-packages (from requests>=2.23.0->cookiecutter->mesa) (2.5.0)\n",
            "Requirement already satisfied: certifi>=2017.4.17 in /usr/local/lib/python3.12/dist-packages (from requests>=2.23.0->cookiecutter->mesa) (2025.8.3)\n",
            "Requirement already satisfied: types-python-dateutil>=2.8.10 in /usr/local/lib/python3.12/dist-packages (from arrow->cookiecutter->mesa) (2.9.0.20250822)\n",
            "Requirement already satisfied: markdown-it-py>=2.2.0 in /usr/local/lib/python3.12/dist-packages (from rich->cookiecutter->mesa) (4.0.0)\n",
            "Requirement already satisfied: pygments<3.0.0,>=2.13.0 in /usr/local/lib/python3.12/dist-packages (from rich->cookiecutter->mesa) (2.19.2)\n",
            "Requirement already satisfied: mdurl~=0.1 in /usr/local/lib/python3.12/dist-packages (from markdown-it-py>=2.2.0->rich->cookiecutter->mesa) (0.1.2)\n"
          ]
        }
      ]
    },
    {
      "cell_type": "code",
      "execution_count": 3,
      "metadata": {
        "colab": {
          "base_uri": "https://localhost:8080/",
          "height": 659
        },
        "id": "ryyoV2P7eySz",
        "outputId": "5762e1fc-e4d9-4f25-8508-a9a4eb8f5a32"
      },
      "outputs": [
        {
          "output_type": "display_data",
          "data": {
            "text/plain": [
              "<Figure size 600x600 with 1 Axes>"
            ],
            "image/png": "[encoded data removed]"
          },
          "metadata": {}
        }
      ],
      "source": [
        "from mesa import Agent, Model\n",
        "from mesa.time import RandomActivation\n",
        "import matplotlib.pyplot as plt\n",
        "import networkx as nx\n",
        "import random\n",
        "\n",
        "class SimpleAgent(Agent):\n",
        "    def __init__(self, unique_id, model):\n",
        "        super().__init__(unique_id, model)\n",
        "        self.social = random.random()\n",
        "        self.last_action = None\n",
        "        self.reward = 0\n",
        "\n",
        "    def step(self):\n",
        "        # Decide cooperate/defect based on social trait\n",
        "        self.last_action = 'cooperate' if random.random() < self.social else 'defect'\n",
        "        self.reward += 1 if self.last_action=='cooperate' else 0.5\n",
        "\n",
        "class SimpleModel(Model):\n",
        "    def __init__(self, N=6, rounds=10):\n",
        "        self.schedule = RandomActivation(self)\n",
        "        self.graph = nx.Graph()\n",
        "        self.rounds = rounds\n",
        "        self.round = 0\n",
        "        self.running = True\n",
        "\n",
        "        # Add agents\n",
        "        for i in range(N):\n",
        "            agent = SimpleAgent(i, self)\n",
        "            self.schedule.add(agent)\n",
        "            self.graph.add_node(agent.unique_id)\n",
        "\n",
        "    def step(self):\n",
        "        self.schedule.step()\n",
        "        agents = self.schedule.agents\n",
        "        self.graph.clear_edges()\n",
        "        # Connect cooperators\n",
        "        for i in range(len(agents)):\n",
        "            for j in range(i+1, len(agents)):\n",
        "                if agents[i].last_action=='cooperate' and agents[j].last_action=='cooperate':\n",
        "                    self.graph.add_edge(agents[i].unique_id, agents[j].unique_id)\n",
        "        self.round +=1\n",
        "        if self.round>=self.rounds:\n",
        "            self.running=False\n",
        "\n",
        "# Run simulation\n",
        "model = SimpleModel(N=6, rounds=15)\n",
        "while model.running:\n",
        "    model.step()\n",
        "\n",
        "# Visualize final network\n",
        "plt.figure(figsize=(6,6))\n",
        "nx.draw(model.graph, with_labels=True, node_color='lightblue', node_size=700)\n",
        "plt.title(\"Level 1: Cooperators Network (Final Round)\")\n",
        "plt.show()\n"
      ]
    }
  ]
}